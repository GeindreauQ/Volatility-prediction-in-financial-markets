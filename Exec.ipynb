{
 "cells": [
  {
   "cell_type": "markdown",
   "id": "ef0ecad6-d8c2-4871-81a9-1caddc4494d0",
   "metadata": {},
   "source": [
    "Ce notebook est relatif au Challenge :  \n",
    "[*Volatility prediction in financial markets\n",
    "by CFM*](https://challengedata.ens.fr/participants/challenges/22/)  \n",
    "\n",
    "\n",
    "## Importation des modules :"
   ]
  },
  {
   "cell_type": "code",
   "execution_count": null,
   "id": "d5aa07d2-ac25-4c2b-9674-c4ff1042d9b5",
   "metadata": {},
   "outputs": [],
   "source": [
    "import torch.nn as nn\n",
    "\n",
    "import fastai.tabular.all as fai\n",
    "\n",
    "import pandas as pd\n",
    "import warnings\n",
    "warnings.filterwarnings(\"ignore\")\n",
    "\n",
    "import plotly.express as px\n",
    "\n",
    "import featuretools as ft\n",
    "\n",
    "from sklearn.preprocessing import StandardScaler\n",
    "\n",
    "from tsai.all import mape"
   ]
  },
  {
   "cell_type": "markdown",
   "id": "66382436-27b0-40de-a06a-039879901ec1",
   "metadata": {},
   "source": [
    "## Chargement des données"
   ]
  },
  {
   "cell_type": "code",
   "execution_count": null,
   "id": "8dbea530-7911-48d2-9bd5-fc8feb968ca2",
   "metadata": {},
   "outputs": [],
   "source": [
    "### Importation des données\n",
    "X = pd.read_csv(\n",
    "    'DATA/training_input.csv/training_input.csv',sep=';').set_index('ID').join( \n",
    "    pd.read_csv(\n",
    "        'DATA/training_input.csv/challenge_34_cfm_trainingoutputfile.csv').set_index('ID'))\n",
    "\n",
    "TEST=pd.read_csv('DATA/testing_input.csv/testing_input.csv',sep=';').set_index('ID')\n",
    "\n",
    "###\n",
    "# Récuperation des nom de features\n",
    "\n",
    "volatility_ft = list(filter(lambda x:'volatility' in x,X.columns.tolist()))\n",
    "return_ft = list(filter(lambda x:'return' in x,X.columns.tolist()))\n",
    "\n",
    "\n",
    "X.head()"
   ]
  },
  {
   "cell_type": "markdown",
   "id": "f4fd0ca0-b78b-4929-861c-e4dbc70e937a",
   "metadata": {},
   "source": [
    "### FeatureEngineering  \n",
    "Preparation :"
   ]
  },
  {
   "cell_type": "code",
   "execution_count": null,
   "id": "f50963b9-b9c2-42ec-8235-61bfa0be4b28",
   "metadata": {},
   "outputs": [],
   "source": [
    "# On synthétise les returns \n",
    "\n",
    "X['dir_mean']=(X[volatility_ft].fillna(0).values*X[return_ft].fillna(0).values).mean(axis=1)\n",
    "X.drop(return_ft,axis=1,inplace=True)\n",
    "\n",
    "TEST['dir_mean']=(TEST[volatility_ft].fillna(0).values*TEST[return_ft].fillna(0).values).mean(axis=1)\n",
    "TEST.drop(return_ft,axis=1,inplace=True)\n"
   ]
  },
  {
   "cell_type": "code",
   "execution_count": null,
   "id": "c5355ea0-f2b1-4a8c-a8ab-6f48ada36415",
   "metadata": {},
   "outputs": [],
   "source": [
    "splits = fai.RandomSplitter(valid_pct=0.15)(fai.range_of(X))\n",
    "\n",
    "to = fai.TabularPandas(X, \n",
    "                   procs=[fai.Categorify,\n",
    "                          fai.FillMissing,\n",
    "                          fai.Normalize\n",
    "                         ],\n",
    "                   cat_names =['product_id'],\n",
    "                   cont_names = volatility_ft+['dir_mean'],\n",
    "                   y_names='TARGET',\n",
    "                   splits=splits)\n",
    "\n",
    "dls = to.dataloaders(bs=1024)"
   ]
  },
  {
   "cell_type": "code",
   "execution_count": null,
   "id": "e97bf4ce-37de-46d5-9791-b8f6446edaf7",
   "metadata": {},
   "outputs": [],
   "source": [
    "emb_szs = fai.get_emb_sz(dls.train_ds)\n",
    "n_out = fai.get_c(dls)\n",
    "n_cont = len(dls.cont_names)\n",
    "\n",
    "\n",
    "learn = fai.TabularLearner(dls,\n",
    "                        model = fai.TabularModel(emb_szs=emb_szs,\n",
    "                                             n_cont=n_cont,\n",
    "                                             out_sz=n_out,\n",
    "                                             layers = [300,200,100,50,25],\n",
    "                                             embed_p=0.,\n",
    "                                            bn_cont=True),\n",
    "                        metrics=[mape,fai.R2Score()],\n",
    "                        loss_func=mape,\n",
    "                        cbs=[fai.ShowGraphCallback()])\n"
   ]
  },
  {
   "cell_type": "code",
   "execution_count": null,
   "id": "bca5740d-e841-4d9b-894f-35d92e90a38f",
   "metadata": {},
   "outputs": [],
   "source": [
    "learn.fit_one_cycle(30,learn.lr_find())"
   ]
  },
  {
   "cell_type": "code",
   "execution_count": null,
   "id": "196d817c-9035-47c7-b784-ae2f75014475",
   "metadata": {},
   "outputs": [],
   "source": [
    "dl = learn.dls.test_dl(TEST)\n",
    "test['TARGET'] = learn.get_preds(dl=dl)[0].to().numpy().reshape(-1)\n",
    "test[['ID','TARGET']].to_csv('res.csv',index=False)"
   ]
  }
 ],
 "metadata": {
  "kernelspec": {
   "display_name": "Python 3 (ipykernel)",
   "language": "python",
   "name": "python3"
  },
  "language_info": {
   "codemirror_mode": {
    "name": "ipython",
    "version": 3
   },
   "file_extension": ".py",
   "mimetype": "text/x-python",
   "name": "python",
   "nbconvert_exporter": "python",
   "pygments_lexer": "ipython3",
   "version": "3.10.6"
  }
 },
 "nbformat": 4,
 "nbformat_minor": 5
}
